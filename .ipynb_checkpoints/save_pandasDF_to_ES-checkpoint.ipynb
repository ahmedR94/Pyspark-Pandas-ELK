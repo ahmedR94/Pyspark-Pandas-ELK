{
 "cells": [
  {
   "cell_type": "code",
   "execution_count": 2,
   "id": "37babae1",
   "metadata": {},
   "outputs": [
    {
     "name": "stdout",
     "output_type": "stream",
     "text": [
      "Defaulting to user installation because normal site-packages is not writeable\n",
      "Collecting elasticsearch==7.11.0\n",
      "  Using cached elasticsearch-7.11.0-py2.py3-none-any.whl (325 kB)\n",
      "Requirement already satisfied: certifi in /usr/lib/python3/dist-packages (from elasticsearch==7.11.0) (2019.11.28)\n",
      "Requirement already satisfied: urllib3<2,>=1.21.1 in /usr/lib/python3/dist-packages (from elasticsearch==7.11.0) (1.25.8)\n",
      "Installing collected packages: elasticsearch\n",
      "Successfully installed elasticsearch-7.11.0\n",
      "\n",
      "\u001b[1m[\u001b[0m\u001b[34;49mnotice\u001b[0m\u001b[1;39;49m]\u001b[0m\u001b[39;49m A new release of pip is available: \u001b[0m\u001b[31;49m23.0.1\u001b[0m\u001b[39;49m -> \u001b[0m\u001b[32;49m23.1.2\u001b[0m\n",
      "\u001b[1m[\u001b[0m\u001b[34;49mnotice\u001b[0m\u001b[1;39;49m]\u001b[0m\u001b[39;49m To update, run: \u001b[0m\u001b[32;49mpython3 -m pip install --upgrade pip\u001b[0m\n"
     ]
    }
   ],
   "source": [
    "!pip install elasticsearch==7.11.0"
   ]
  },
  {
   "cell_type": "code",
   "execution_count": 33,
   "id": "19b98e01",
   "metadata": {},
   "outputs": [
    {
     "name": "stdout",
     "output_type": "stream",
     "text": [
      "Defaulting to user installation because normal site-packages is not writeable\n",
      "Collecting elasticsearch-dsl\n",
      "  Downloading elasticsearch_dsl-7.4.1-py2.py3-none-any.whl (64 kB)\n",
      "\u001b[2K     \u001b[38;2;114;156;31m━━━━━━━━━━━━━━━━━━━━━━━━━━━━━━━━━━━━━━━━\u001b[0m \u001b[32m64.1/64.1 kB\u001b[0m \u001b[31m1.6 MB/s\u001b[0m eta \u001b[36m0:00:00\u001b[0m\n",
      "\u001b[?25hRequirement already satisfied: elasticsearch<8.0.0,>=7.0.0 in /home/ahmeda/.local/lib/python3.8/site-packages (from elasticsearch-dsl) (7.11.0)\n",
      "Requirement already satisfied: python-dateutil in /home/ahmeda/.local/lib/python3.8/site-packages (from elasticsearch-dsl) (2.8.2)\n",
      "Requirement already satisfied: six in /usr/lib/python3/dist-packages (from elasticsearch-dsl) (1.14.0)\n",
      "Requirement already satisfied: certifi in /usr/lib/python3/dist-packages (from elasticsearch<8.0.0,>=7.0.0->elasticsearch-dsl) (2019.11.28)\n",
      "Requirement already satisfied: urllib3<2,>=1.21.1 in /usr/lib/python3/dist-packages (from elasticsearch<8.0.0,>=7.0.0->elasticsearch-dsl) (1.25.8)\n",
      "Installing collected packages: elasticsearch-dsl\n",
      "Successfully installed elasticsearch-dsl-7.4.1\n",
      "\n",
      "\u001b[1m[\u001b[0m\u001b[34;49mnotice\u001b[0m\u001b[1;39;49m]\u001b[0m\u001b[39;49m A new release of pip is available: \u001b[0m\u001b[31;49m23.0.1\u001b[0m\u001b[39;49m -> \u001b[0m\u001b[32;49m23.1.2\u001b[0m\n",
      "\u001b[1m[\u001b[0m\u001b[34;49mnotice\u001b[0m\u001b[1;39;49m]\u001b[0m\u001b[39;49m To update, run: \u001b[0m\u001b[32;49mpython3 -m pip install --upgrade pip\u001b[0m\n"
     ]
    }
   ],
   "source": [
    "!pip install elasticsearch-dsl"
   ]
  },
  {
   "cell_type": "markdown",
   "id": "6d535d83",
   "metadata": {},
   "source": [
    "### Connect to elasticsearch"
   ]
  },
  {
   "cell_type": "code",
   "execution_count": 34,
   "id": "b10f14e5",
   "metadata": {},
   "outputs": [],
   "source": [
    "from elasticsearch_dsl import connections"
   ]
  },
  {
   "cell_type": "markdown",
   "id": "69b4bbd9",
   "metadata": {},
   "source": [
    "### insert pandas dataframe to ES"
   ]
  },
  {
   "cell_type": "code",
   "execution_count": 35,
   "id": "04c1266d",
   "metadata": {},
   "outputs": [],
   "source": [
    "es_client = connections.create_connection(hosts=[\"http://localhost:9200/\"])"
   ]
  },
  {
   "cell_type": "code",
   "execution_count": 37,
   "id": "77742c83",
   "metadata": {},
   "outputs": [
    {
     "data": {
      "text/plain": [
       "{'name': '4365857c219b',\n",
       " 'cluster_name': 'docker-cluster',\n",
       " 'cluster_uuid': 'OjbN8kXaRuikrheX6V9Hog',\n",
       " 'version': {'number': '7.11.0',\n",
       "  'build_flavor': 'default',\n",
       "  'build_type': 'docker',\n",
       "  'build_hash': '8ced7813d6f16d2ef30792e2fcde3e755795ee04',\n",
       "  'build_date': '2021-02-08T22:44:01.320463Z',\n",
       "  'build_snapshot': False,\n",
       "  'lucene_version': '8.7.0',\n",
       "  'minimum_wire_compatibility_version': '6.8.0',\n",
       "  'minimum_index_compatibility_version': '6.0.0-beta1'},\n",
       " 'tagline': 'You Know, for Search'}"
      ]
     },
     "execution_count": 37,
     "metadata": {},
     "output_type": "execute_result"
    }
   ],
   "source": [
    "es_client.info()"
   ]
  },
  {
   "cell_type": "code",
   "execution_count": 27,
   "id": "171c7368",
   "metadata": {},
   "outputs": [],
   "source": [
    "import pandas as pd"
   ]
  },
  {
   "cell_type": "code",
   "execution_count": 28,
   "id": "d6a28625",
   "metadata": {},
   "outputs": [],
   "source": [
    "df = pd.DataFrame({\"uid\":[1,2,3,4,5,6,7],\"name\":[\"tom\",\"jack\",'recard',\"bernardo\",\"jad\",\"terry\",\"robert\"],\n",
    "                  \"coubtry\":[\"USA\",\"UK\",\"TUN\",\"USA\",\"UK\",\"TUN\",\"LYB\"]})"
   ]
  },
  {
   "cell_type": "code",
   "execution_count": 29,
   "id": "020e9f3d",
   "metadata": {},
   "outputs": [
    {
     "data": {
      "text/html": [
       "<div>\n",
       "<style scoped>\n",
       "    .dataframe tbody tr th:only-of-type {\n",
       "        vertical-align: middle;\n",
       "    }\n",
       "\n",
       "    .dataframe tbody tr th {\n",
       "        vertical-align: top;\n",
       "    }\n",
       "\n",
       "    .dataframe thead th {\n",
       "        text-align: right;\n",
       "    }\n",
       "</style>\n",
       "<table border=\"1\" class=\"dataframe\">\n",
       "  <thead>\n",
       "    <tr style=\"text-align: right;\">\n",
       "      <th></th>\n",
       "      <th>uid</th>\n",
       "      <th>name</th>\n",
       "      <th>coubtry</th>\n",
       "    </tr>\n",
       "  </thead>\n",
       "  <tbody>\n",
       "    <tr>\n",
       "      <th>0</th>\n",
       "      <td>1</td>\n",
       "      <td>tom</td>\n",
       "      <td>USA</td>\n",
       "    </tr>\n",
       "    <tr>\n",
       "      <th>1</th>\n",
       "      <td>2</td>\n",
       "      <td>jack</td>\n",
       "      <td>UK</td>\n",
       "    </tr>\n",
       "    <tr>\n",
       "      <th>2</th>\n",
       "      <td>3</td>\n",
       "      <td>recard</td>\n",
       "      <td>TUN</td>\n",
       "    </tr>\n",
       "    <tr>\n",
       "      <th>3</th>\n",
       "      <td>4</td>\n",
       "      <td>bernardo</td>\n",
       "      <td>USA</td>\n",
       "    </tr>\n",
       "    <tr>\n",
       "      <th>4</th>\n",
       "      <td>5</td>\n",
       "      <td>jad</td>\n",
       "      <td>UK</td>\n",
       "    </tr>\n",
       "    <tr>\n",
       "      <th>5</th>\n",
       "      <td>6</td>\n",
       "      <td>terry</td>\n",
       "      <td>TUN</td>\n",
       "    </tr>\n",
       "    <tr>\n",
       "      <th>6</th>\n",
       "      <td>7</td>\n",
       "      <td>robert</td>\n",
       "      <td>LYB</td>\n",
       "    </tr>\n",
       "  </tbody>\n",
       "</table>\n",
       "</div>"
      ],
      "text/plain": [
       "   uid      name coubtry\n",
       "0    1       tom     USA\n",
       "1    2      jack      UK\n",
       "2    3    recard     TUN\n",
       "3    4  bernardo     USA\n",
       "4    5       jad      UK\n",
       "5    6     terry     TUN\n",
       "6    7    robert     LYB"
      ]
     },
     "execution_count": 29,
     "metadata": {},
     "output_type": "execute_result"
    }
   ],
   "source": [
    "df"
   ]
  },
  {
   "cell_type": "code",
   "execution_count": 30,
   "id": "28253bd6",
   "metadata": {},
   "outputs": [],
   "source": [
    "def doc_generator(df):\n",
    "    df_iter = df.iterrows()\n",
    "    for index, document in df_iter:\n",
    "        #print(index,document)\n",
    "        yield {\n",
    "                \"_index\": 'age_simple',\n",
    "                \"_type\": \"_doc\",\n",
    "                #\"_id\" : f\"{document['id']}\",\n",
    "                \"_source\": document,\n",
    "            }"
   ]
  },
  {
   "cell_type": "code",
   "execution_count": 38,
   "id": "b413ebbe",
   "metadata": {},
   "outputs": [
    {
     "name": "stderr",
     "output_type": "stream",
     "text": [
      "/home/ahmeda/.local/lib/python3.8/site-packages/elasticsearch/connection/base.py:200: ElasticsearchWarning: [types removal] Specifying types in bulk requests is deprecated.\n",
      "  warnings.warn(message, category=ElasticsearchWarning)\n"
     ]
    },
    {
     "data": {
      "text/plain": [
       "(7, [])"
      ]
     },
     "execution_count": 38,
     "metadata": {},
     "output_type": "execute_result"
    }
   ],
   "source": [
    "helpers.bulk(es_client, doc_generator(df))"
   ]
  },
  {
   "cell_type": "code",
   "execution_count": 39,
   "id": "4bddd174",
   "metadata": {},
   "outputs": [],
   "source": [
    "from elasticsearch_dsl import Search"
   ]
  },
  {
   "cell_type": "code",
   "execution_count": 50,
   "id": "1aa22cf6",
   "metadata": {},
   "outputs": [],
   "source": [
    "s = Search(index=\"age_simple\").query(\"match\", coubtry=\"USA\")\n",
    "response = s.delete()"
   ]
  },
  {
   "cell_type": "code",
   "execution_count": 51,
   "id": "d9836ecf",
   "metadata": {},
   "outputs": [
    {
     "data": {
      "text/plain": [
       "{'took': 20, 'timed_out': False, 'total': 2, 'deleted': 2, '...}"
      ]
     },
     "execution_count": 51,
     "metadata": {},
     "output_type": "execute_result"
    }
   ],
   "source": [
    "response"
   ]
  },
  {
   "cell_type": "code",
   "execution_count": 52,
   "id": "4af024a0",
   "metadata": {},
   "outputs": [],
   "source": [
    "s = Search(index=\"age_simple\").query(\"match\", coubtry=\"LYB\")\n",
    "response = s.execute()"
   ]
  },
  {
   "cell_type": "code",
   "execution_count": 53,
   "id": "afc7cfff",
   "metadata": {},
   "outputs": [
    {
     "data": {
      "text/plain": [
       "<Response: [<Hit(age_simple/wPsVL4gBQEeUbdD1oO96): {'uid': 7, 'name': 'robert', 'coubtry': 'LYB'}>]>"
      ]
     },
     "execution_count": 53,
     "metadata": {},
     "output_type": "execute_result"
    }
   ],
   "source": [
    "response"
   ]
  },
  {
   "cell_type": "code",
   "execution_count": null,
   "id": "439d71e0",
   "metadata": {},
   "outputs": [],
   "source": []
  }
 ],
 "metadata": {
  "kernelspec": {
   "display_name": "Python 3 (ipykernel)",
   "language": "python",
   "name": "python3"
  },
  "language_info": {
   "codemirror_mode": {
    "name": "ipython",
    "version": 3
   },
   "file_extension": ".py",
   "mimetype": "text/x-python",
   "name": "python",
   "nbconvert_exporter": "python",
   "pygments_lexer": "ipython3",
   "version": "3.8.10"
  }
 },
 "nbformat": 4,
 "nbformat_minor": 5
}
