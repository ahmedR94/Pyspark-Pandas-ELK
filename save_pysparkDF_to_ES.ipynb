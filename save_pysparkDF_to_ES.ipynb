{
 "cells": [
  {
   "cell_type": "code",
   "execution_count": 1,
   "id": "17e3db68",
   "metadata": {},
   "outputs": [],
   "source": [
    "from pyspark.sql import SparkSession"
   ]
  },
  {
   "cell_type": "code",
   "execution_count": 4,
   "id": "04ffe0ad",
   "metadata": {},
   "outputs": [
    {
     "name": "stderr",
     "output_type": "stream",
     "text": [
      "23/05/18 17:30:49 WARN Utils: Your hostname, ahmeda-VirtualBox resolves to a loopback address: 127.0.1.1; using 10.0.2.15 instead (on interface enp0s3)\n",
      "23/05/18 17:30:49 WARN Utils: Set SPARK_LOCAL_IP if you need to bind to another address\n",
      "23/05/18 17:30:50 WARN NativeCodeLoader: Unable to load native-hadoop library for your platform... using builtin-java classes where applicable\n",
      "Setting default log level to \"WARN\".\n",
      "To adjust logging level use sc.setLogLevel(newLevel). For SparkR, use setLogLevel(newLevel).\n"
     ]
    }
   ],
   "source": [
    "# Create a SparkSession\n",
    "spark = SparkSession.builder \\\n",
    "    .appName(\"Write_sparkDF_toES\") \\\n",
    "    .config(\"spark.es.nodes\",\"localhost\") \\\n",
    "    .config(\"spark.es.port\",\"9200\") \\\n",
    "    .config(\"spark.jars\",\"elasticsearch-spark-30_2.12-8.7.1.jar\") \\\n",
    "    .getOrCreate()"
   ]
  },
  {
   "cell_type": "code",
   "execution_count": 5,
   "id": "b4776296",
   "metadata": {},
   "outputs": [],
   "source": [
    "# Read data into a DataFrame\n",
    "data = spark.read.format(\"parquet\").load(\"dataset/\")"
   ]
  },
  {
   "cell_type": "code",
   "execution_count": 6,
   "id": "5f96f20a",
   "metadata": {},
   "outputs": [
    {
     "data": {
      "text/plain": [
       "11339"
      ]
     },
     "execution_count": 6,
     "metadata": {},
     "output_type": "execute_result"
    }
   ],
   "source": [
    "data.count()"
   ]
  },
  {
   "cell_type": "code",
   "execution_count": 8,
   "id": "4e24b418",
   "metadata": {},
   "outputs": [
    {
     "name": "stderr",
     "output_type": "stream",
     "text": [
      "23/05/18 17:31:05 WARN RestClient: Could not verify server is Elasticsearch! ES-Hadoop will require server validation when connecting to an Elasticsearch cluster if that Elasticsearch cluster is v7.14 and up.\n",
      "23/05/18 17:31:05 WARN Resource: Detected type name in resource [spark_index/doc]. Type names are deprecated and will be removed in a later release.\n",
      "23/05/18 17:31:05 WARN RestClient: Could not verify server is Elasticsearch! ES-Hadoop will require server validation when connecting to an Elasticsearch cluster if that Elasticsearch cluster is v7.14 and up.\n",
      "23/05/18 17:31:05 WARN RestClient: Could not verify server is Elasticsearch! ES-Hadoop will require server validation when connecting to an Elasticsearch cluster if that Elasticsearch cluster is v7.14 and up.\n",
      "23/05/18 17:31:05 WARN RestClient: Could not verify server is Elasticsearch! ES-Hadoop will require server validation when connecting to an Elasticsearch cluster if that Elasticsearch cluster is v7.14 and up.\n",
      "23/05/18 17:31:05 WARN Resource: Detected type name in resource [spark_index/doc]. Type names are deprecated and will be removed in a later release.\n",
      "23/05/18 17:31:05 WARN Resource: Detected type name in resource [spark_index/doc]. Type names are deprecated and will be removed in a later release.\n",
      "23/05/18 17:31:05 WARN Resource: Detected type name in resource [spark_index/doc]. Type names are deprecated and will be removed in a later release.\n",
      "23/05/18 17:31:05 WARN Resource: Detected type name in resource [spark_index/doc]. Type names are deprecated and will be removed in a later release.\n",
      "23/05/18 17:31:05 WARN Resource: Detected type name in resource [spark_index/doc]. Type names are deprecated and will be removed in a later release.\n",
      "23/05/18 17:31:05 WARN Resource: Detected type name in resource [spark_index/doc]. Type names are deprecated and will be removed in a later release.\n",
      "23/05/18 17:31:05 WARN Resource: Detected type name in resource [spark_index/doc]. Type names are deprecated and will be removed in a later release.\n",
      "23/05/18 17:31:05 WARN Resource: Detected type name in resource [spark_index/doc]. Type names are deprecated and will be removed in a later release.\n",
      "23/05/18 17:31:05 WARN Resource: Detected type name in resource [spark_index/doc]. Type names are deprecated and will be removed in a later release.\n",
      "23/05/18 17:31:05 WARN Resource: Detected type name in resource [spark_index/doc]. Type names are deprecated and will be removed in a later release.\n",
      "23/05/18 17:31:06 WARN Resource: Detected type name in resource [spark_index/doc]. Type names are deprecated and will be removed in a later release.\n",
      "23/05/18 17:31:06 WARN Resource: Detected type name in resource [spark_index/doc]. Type names are deprecated and will be removed in a later release.\n",
      "                                                                                \r"
     ]
    }
   ],
   "source": [
    "# Save DataFrame to Elasticsearch\n",
    "data.write.format(\"org.elasticsearch.spark.sql\") \\\n",
    "    .option(\"es.nodes\", \"localhost\") \\\n",
    "    .option(\"es.port\", \"9200\") \\\n",
    "    .option(\"es.resource\", \"spark_index/doc\") \\\n",
    "    .option(\"mode\", \"append\") \\\n",
    "    .save()"
   ]
  },
  {
   "cell_type": "code",
   "execution_count": null,
   "id": "d1beb8c0",
   "metadata": {},
   "outputs": [],
   "source": [
    "# Stop the SparkSession\n",
    "#spark.stop()"
   ]
  },
  {
   "cell_type": "code",
   "execution_count": 10,
   "id": "adc2574f",
   "metadata": {},
   "outputs": [
    {
     "name": "stderr",
     "output_type": "stream",
     "text": [
      "23/05/18 17:44:02 WARN RestClient: Could not verify server is Elasticsearch! ES-Hadoop will require server validation when connecting to an Elasticsearch cluster if that Elasticsearch cluster is v7.14 and up.\n",
      "23/05/18 17:44:02 WARN Resource: Detected type name in resource [spark_index/doc]. Type names are deprecated and will be removed in a later release.\n"
     ]
    }
   ],
   "source": [
    "# Read data from Elasticsearch into a DataFrame\n",
    "data = spark.read.format(\"org.elasticsearch.spark.sql\") \\\n",
    "    .option(\"es.nodes\", \"localhost\") \\\n",
    "    .option(\"es.port\", \"9200\") \\\n",
    "    .option(\"es.resource\", \"spark_index/doc\") \\\n",
    "    .load()"
   ]
  },
  {
   "cell_type": "code",
   "execution_count": 11,
   "id": "0b1d94f7",
   "metadata": {},
   "outputs": [
    {
     "name": "stderr",
     "output_type": "stream",
     "text": [
      "23/05/18 17:44:30 WARN RestClient: Could not verify server is Elasticsearch! ES-Hadoop will require server validation when connecting to an Elasticsearch cluster if that Elasticsearch cluster is v7.14 and up.\n",
      "23/05/18 17:44:30 WARN Resource: Detected type name in resource [spark_index/doc]. Type names are deprecated and will be removed in a later release.\n",
      "23/05/18 17:44:30 WARN Resource: Detected type name in resource [spark_index/doc]. Type names are deprecated and will be removed in a later release.\n",
      "23/05/18 17:44:30 WARN Resource: Detected type name in resource [spark_index/doc]. Type names are deprecated and will be removed in a later release.\n",
      "23/05/18 17:44:30 WARN Resource: Detected type name in resource [spark_index/doc]. Type names are deprecated and will be removed in a later release.\n",
      "23/05/18 17:44:30 WARN Resource: Detected type name in resource [spark_index/doc]. Type names are deprecated and will be removed in a later release.\n"
     ]
    },
    {
     "data": {
      "text/plain": [
       "11339"
      ]
     },
     "execution_count": 11,
     "metadata": {},
     "output_type": "execute_result"
    }
   ],
   "source": [
    "data.count()"
   ]
  },
  {
   "cell_type": "code",
   "execution_count": 12,
   "id": "c51437e0",
   "metadata": {},
   "outputs": [
    {
     "name": "stderr",
     "output_type": "stream",
     "text": [
      "23/05/18 17:44:36 WARN RestClient: Could not verify server is Elasticsearch! ES-Hadoop will require server validation when connecting to an Elasticsearch cluster if that Elasticsearch cluster is v7.14 and up.\n",
      "23/05/18 17:44:36 WARN Resource: Detected type name in resource [spark_index/doc]. Type names are deprecated and will be removed in a later release.\n",
      "23/05/18 17:44:36 WARN Resource: Detected type name in resource [spark_index/doc]. Type names are deprecated and will be removed in a later release.\n",
      "23/05/18 17:44:36 WARN Resource: Detected type name in resource [spark_index/doc]. Type names are deprecated and will be removed in a later release.\n",
      "23/05/18 17:44:36 WARN Resource: Detected type name in resource [spark_index/doc]. Type names are deprecated and will be removed in a later release.\n",
      "23/05/18 17:44:36 WARN Resource: Detected type name in resource [spark_index/doc]. Type names are deprecated and will be removed in a later release.\n"
     ]
    },
    {
     "name": "stdout",
     "output_type": "stream",
     "text": [
      "+-----------------+-------------+--------------------+-------------+-----------+---------+-------+------+\n",
      "|c_thir_part_refer|    eventdate|    l_thir_part_name|n_applic_infq|n_ident_ret|   nsiren| numera|source|\n",
      "+-----------------+-------------+--------------------+-------------+-----------+---------+-------+------+\n",
      "|             5083|1675983600000|             SOCABAT|           38| 8557804688|381744739|2666581|   CBM|\n",
      "|         A0003067|1675983600000|PARIS SAVOIE INDU...|           38| 5883631007|606220101| 336835|   CBM|\n",
      "|             2765|1675983600000|      CREDIT DU NORD|           38| 7499432229|     null|2646842|   CBM|\n",
      "|             8208|1675983600000|     LOGITUD SA (RJ)|           38| 3751081940|343435491|2681678|   CBM|\n",
      "|             8763|1675983600000|MAISON PAUL GARCE...|           38| 7854530136|354500019|2694616|   CBM|\n",
      "|         A0015483|1675983600000|%T.P.R.M.TRAVAUX ...|           38| 6850419101|434407615|3645657|   CBM|\n",
      "|         A0023903|1675983600000|ORCHIES TRANSPORT...|           38| 9490221315|813699287|4110149|   CBM|\n",
      "|         A0026325|1675983600000| ROMANAT AUTOMOBILES|           38| 3679957246|325078590|4062384|   CBM|\n",
      "|         A0026180|1675983600000|         MACMATERIEL|           38| 6174479841|789874690|4098899|   CBM|\n",
      "|            13077|1675983600000|VACHEZ INDUSTRIE ...|           38| 2857764096|421195736|2795827|   CBM|\n",
      "|            10798|1675983600000|                  FX|           38| 9727783864|403847585|2760577|   CBM|\n",
      "|         A0020074|1675983600000|HENRION DORMEVAL ...|           38| 3906452124|444736342|3876055|   CBM|\n",
      "|         A0013624|1675983600000|DE JOANNIS DE VER...|           38| 4764568715|     null|3597874|   CBM|\n",
      "|         A0030130|1675983600000|  KEOLIS HAUT- BUGEY|           38| 1639321224|880132220|5149213|   CBM|\n",
      "|             6200|1675983600000|           STE ATLOC|           38| 6789544674|381344316|2676119|   CBM|\n",
      "|             9686|1675983600000|               SOMAS|           38| 7454218674|339278863|2611452|   CBM|\n",
      "|         A0012660|1675983600000|     TECH-PATRIMONIA|           38| 1964795028|428935670|3294727|   CBM|\n",
      "|         A0001229|1675983600000|       ADEKMA LEVAGE|           38| 9896873211|452055973|2984981|   CBM|\n",
      "|         A0029549|1675983600000|KEOLIS MENTON RIV...|           38| 3078345516|844404392|4947740|   CBM|\n",
      "|             7065|1675983600000|GUGLIELMI ET FILS...|           38| 4607190123|786320812| 390255|   CBM|\n",
      "+-----------------+-------------+--------------------+-------------+-----------+---------+-------+------+\n",
      "only showing top 20 rows\n",
      "\n"
     ]
    }
   ],
   "source": [
    "data.show()"
   ]
  },
  {
   "cell_type": "code",
   "execution_count": null,
   "id": "49b8aefb",
   "metadata": {},
   "outputs": [],
   "source": []
  }
 ],
 "metadata": {
  "kernelspec": {
   "display_name": "Python 3 (ipykernel)",
   "language": "python",
   "name": "python3"
  },
  "language_info": {
   "codemirror_mode": {
    "name": "ipython",
    "version": 3
   },
   "file_extension": ".py",
   "mimetype": "text/x-python",
   "name": "python",
   "nbconvert_exporter": "python",
   "pygments_lexer": "ipython3",
   "version": "3.8.10"
  }
 },
 "nbformat": 4,
 "nbformat_minor": 5
}
